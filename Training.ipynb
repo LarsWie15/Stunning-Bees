{
 "cells": [
  {
   "cell_type": "code",
   "execution_count": 2,
   "id": "af927435",
   "metadata": {},
   "outputs": [],
   "source": [
    "import pandas as pd\n",
    "import numpy as np\n",
    "from catboost import CatBoostRegressor\n",
    "from sklearn.metrics import mean_squared_error, mean_absolute_error, r2_score\n"
   ]
  },
  {
   "cell_type": "code",
   "execution_count": null,
   "id": "e00a6293",
   "metadata": {},
   "outputs": [],
   "source": [
    "# ===== Load =====\n",
    "df = pd.read_excel(\"Shanghai_Containerized_Freight_Prepared.xlsx\", parse_dates=[\"date\"])\n",
    "df = df.sort_values(\"date\").reset_index(drop=True)\n"
   ]
  },
  {
   "cell_type": "code",
   "execution_count": null,
   "id": "2034845a",
   "metadata": {},
   "outputs": [],
   "source": [
    "# ===== Target / features =====\n",
    "target = \"europe_base_port\"\n",
    "feature_cols = [c for c in df.columns if ('lag_' in c or 'rollmean_' in c)]\n",
    "X = df[feature_cols]\n",
    "y = df[target]\n",
    "\n",
    "# ===== Diagnostics =====\n",
    "print(\"Autocorrelation of target (lag 1):\", df[target].autocorr(lag=1))\n",
    "print(\"Number of samples:\", len(df))\n",
    "print(\"Feature count:\", len(feature_cols))\n",
    "print(\"First few features:\", feature_cols[:8], \"\\n\")\n"
   ]
  },
  {
   "cell_type": "code",
   "execution_count": null,
   "id": "944842da",
   "metadata": {},
   "outputs": [],
   "source": [
    "# ===== Baseline: naive 'yesterday = today' predictor =====\n",
    "y_true_base = y.iloc[1:]\n",
    "y_pred_base = y.shift(1).iloc[1:]\n",
    "\n",
    "# Errors\n",
    "errors = y_true_base - y_pred_base\n",
    "abs_errors = errors.abs()\n",
    "\n",
    "# Metrics\n",
    "r2_naive = r2_score(y_true_base, y_pred_base)\n",
    "rmse_naive = np.sqrt(mean_squared_error(y_true_base, y_pred_base))\n",
    "mae_naive = mean_absolute_error(y_true_base, y_pred_base)\n",
    "mape_naive = np.mean(np.abs((y_true_base - y_pred_base) / y_true_base)) * 100\n",
    "max_error = abs_errors.max()\n",
    "max_error_date = df.loc[abs_errors.idxmax(), \"date\"]\n",
    "\n",
    "print(\"=== Naive Baseline (previous week) ===\")\n",
    "print(f\"RMSE : {rmse_naive:.2f}\")\n",
    "print(f\"MAE  : {mae_naive:.2f}\")\n",
    "print(f\"MAPE : {mape_naive:.2f}%\")\n",
    "print(f\"R²   : {r2_naive:.3f}\")\n",
    "print(f\"Max absolute error : {max_error:.2f} (on {max_error_date.date()})\\n\")\n"
   ]
  },
  {
   "cell_type": "code",
   "execution_count": 6,
   "id": "d521c6b2",
   "metadata": {},
   "outputs": [
    {
     "name": "stdout",
     "output_type": "stream",
     "text": [
      "0:\tlearn: 2464.9859977\ttest: 1283.0286615\tbest: 1283.0286615 (0)\ttotal: 2.6ms\tremaining: 2.6s\n",
      "100:\tlearn: 160.3751304\ttest: 543.0276284\tbest: 489.1221485 (52)\ttotal: 344ms\tremaining: 3.06s\n",
      "Stopped by overfitting detector  (50 iterations wait)\n",
      "\n",
      "bestTest = 489.1221485\n",
      "bestIteration = 52\n",
      "\n",
      "Shrink model to first 53 iterations.\n"
     ]
    },
    {
     "data": {
      "text/plain": [
       "<catboost.core.CatBoostRegressor at 0x1d7f66662d0>"
      ]
     },
     "execution_count": 6,
     "metadata": {},
     "output_type": "execute_result"
    }
   ],
   "source": [
    "# ===== Train / Test Split =====\n",
    "split = int(len(df) * 0.7)  # 70% train, 30% test\n",
    "X_train, X_test = X.iloc[:split], X.iloc[split:]\n",
    "y_train, y_test = y.iloc[:split], y.iloc[split:]\n",
    "\n",
    "model = CatBoostRegressor(\n",
    "    iterations=1000,\n",
    "    depth=6,\n",
    "    learning_rate=0.05,\n",
    "    random_seed=42,\n",
    "    od_type=\"Iter\",\n",
    "    od_wait=50,\n",
    "    verbose=100\n",
    ")\n",
    "\n",
    "model.fit(X_train, y_train, eval_set=(X_test, y_test), use_best_model=True)\n"
   ]
  },
  {
   "cell_type": "code",
   "execution_count": 7,
   "id": "4da74b9a",
   "metadata": {},
   "outputs": [
    {
     "name": "stdout",
     "output_type": "stream",
     "text": [
      "\n",
      "=== Final Test Performance ===\n",
      "RMSE : 489.12\n",
      "MAE  : 390.16\n",
      "MAPE : 24.55%\n",
      "R²   : 0.833\n",
      "(Naive baseline R²: 0.994)\n"
     ]
    }
   ],
   "source": [
    "# ===== Evaluate =====\n",
    "preds = model.predict(X_test)\n",
    "\n",
    "rmse = np.sqrt(mean_squared_error(y_test, preds))\n",
    "mae = mean_absolute_error(y_test, preds)\n",
    "mape = np.mean(np.abs((y_test - preds) / y_test)) * 100\n",
    "r2 = r2_score(y_test, preds)\n",
    "\n",
    "print(\"\\n=== Final Test Performance ===\")\n",
    "print(f\"RMSE : {rmse:.2f}\")\n",
    "print(f\"MAE  : {mae:.2f}\")\n",
    "print(f\"MAPE : {mape:.2f}%\")\n",
    "print(f\"R²   : {r2:.3f}\")\n",
    "print(f\"(Naive baseline R²: {r2_naive:.3f})\")\n"
   ]
  }
 ],
 "metadata": {
  "kernelspec": {
   "display_name": "Python 3",
   "language": "python",
   "name": "python3"
  },
  "language_info": {
   "codemirror_mode": {
    "name": "ipython",
    "version": 3
   },
   "file_extension": ".py",
   "mimetype": "text/x-python",
   "name": "python",
   "nbconvert_exporter": "python",
   "pygments_lexer": "ipython3",
   "version": "3.11.9"
  }
 },
 "nbformat": 4,
 "nbformat_minor": 5
}
